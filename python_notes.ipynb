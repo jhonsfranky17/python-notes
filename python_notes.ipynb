{
 "cells": [
  {
   "cell_type": "markdown",
   "metadata": {},
   "source": [
    "# Python Complete Notes\n",
    "\n",
    "Go through each topic/definition and remove the comment from the code below to observe the output of the explained concepts.\n",
    "\n",
    "Buckle up Soldier, because we're about to start an exciting journey packed with fun and learning!!!\n",
    "\n",
    "Imagine you're giving instructions to your friend on how to build a LEGO castle. You would tell them exactly what to do, step by step—like \"put the red block here\" and \"add a yellow piece there.\"\n",
    "\n",
    "Now, instead of talking to a person, you want to give instructions to a computer to do something like adding numbers, showing pictures, or playing music. But here’s the catch: the computer doesn't understand regular language like English or Spanish. It only understands a special language, that’s where programming languages come in!\n",
    "\n",
    "A **programming language** is a special set of instructions that we use to talk to computers. These instructions tell the computer what to do, just like how you give instructions to your friend to build something.\n",
    "\n",
    "### Why do we need Programming Languages?\n",
    "\n",
    "Computers are super powerful, but they only do what they're told in the right way. We need programming languages to tell them exactly what we want them to do!\n",
    "Want to build a game, a website, or an app? You need a programming language to make it happen! (Sorry, no shortcuts here! If you were thinking of using WordPress or Shopify, just don’t! Shortcuts are for the weak, chin up, soldier! Let’s do this the right way, no easy way out!)\n",
    "Programming languages let us create tools that solve problems, like helping people talk to each other online, calculating numbers, or even making robots move! (sounds interesting right?)"
   ]
  },
  {
   "cell_type": "markdown",
   "metadata": {},
   "source": [
    "---\n",
    "\n",
    "### Print Function\n",
    "\n",
    "Starting with the `print()` function is like learning how to speak in a new language. When you're learning Python, `print()` helps you talk to the computer and see the results of your code. Without it, you'd be writing all these cool instructions, but the computer wouldn’t tell you what's happening!\n",
    "\n",
    "Imagine you have a magic speaker that can say whatever you tell it to. In Python, the `print()` function (a **function** is nothing but a block of code that you can reuse 'n' number of times whenever you want) is like that magic speaker, it displays messages on the screen.\n",
    "\n",
    "Think of `print()` as your \"hello world\" moment. It’s like meeting a new friend for the first time, once you know how to communicate with Python using `print()`, everything else becomes a lot easier and more fun!\n",
    "\n",
    "The `print()` function prints the specified message to the screen, or other standard output device. The message can be a string, or any other object, and the object will be converted into a string before being written to the screen."
   ]
  },
  {
   "cell_type": "code",
   "execution_count": 2,
   "metadata": {},
   "outputs": [
    {
     "name": "stdout",
     "output_type": "stream",
     "text": [
      "Hello guys!\n",
      "I like Biriyani\n"
     ]
    }
   ],
   "source": [
    "# remove the comments below to see the magic of print()\n",
    "print(\"Hello guys!\")\n",
    "print(\"I like Biriyani\")"
   ]
  },
  {
   "cell_type": "markdown",
   "metadata": {},
   "source": [
    "---\n",
    "\n",
    "### Comments\n",
    "\n",
    "I asked you to remove the comments but what exactly are they?\n",
    "Imagine you're writing a note to yourself in a diary or on a piece of paper. You might write down something like, “Hey, don’t forget to buy ice cream later!” It's something just for you to remember, but when someone else reads your diary, they don’t need to worry about your ice cream plans.\n",
    "\n",
    "Well, in Python, **comments** are just like that note to yourself! They’re a way to leave messages in your code so you can remember things or explain what your code does—without Python trying to run those messages!\n",
    "\n",
    "**Two types:**\n",
    "* **Single-line**: If you want to leave a quick note on one line, use the `#` symbol.\n",
    "* **Multi-line**: If you have a longer message or explanation, you can use triple quotes `\"\"\"` or `'''` for multi-line comments.\n",
    "\n",
    "Get ready to leave notes in your code like a secret agent!"
   ]
  },
  {
   "cell_type": "markdown",
   "metadata": {},
   "source": [
    "---\n",
    "\n",
    "### Input Function\n",
    "\n",
    "Imagine you're playing a game where you need to ask your friend for their name. You shout, \"Hey, what's your name?\" and they reply. That’s exactly what the `input()` function does, it lets the computer ask you for information!\n",
    "\n",
    "When you use `input()`, it pauses your program and waits for the user to type something in (sometimes I wish the people around me were computers, at least they'd wait patiently for me to respond like the `input()` function. But nope, they keep talking while I'm still processing!). Once they hit Enter, whatever they typed gets returned by `input()` as a string.\n",
    "\n",
    "`input()` is super important because it’s how you get user interaction. Without it, the computer would be like a robot with no clue about what the user wants!"
   ]
  },
  {
   "cell_type": "code",
   "execution_count": 4,
   "metadata": {},
   "outputs": [
    {
     "name": "stdout",
     "output_type": "stream",
     "text": [
      "fred\n"
     ]
    }
   ],
   "source": [
    "name = input(\"What's your name? \")\n",
    "print(name)"
   ]
  },
  {
   "cell_type": "markdown",
   "metadata": {},
   "source": [
    "---\n",
    "\n",
    "### Variables and Types\n",
    "\n",
    "Imagine you have a magic box where you can store different things, like a number, a word, or even a list of things. You can give this box a name so you can find it later.\n",
    "\n",
    "In programming, this magic box is called a **variable**. It holds information that the computer can use later.\n",
    "\n",
    "#### Types\n",
    "\n",
    "* **Integer (int)**: Think of this like a box that holds only whole numbers (no decimals).\n",
    "\n",
    "Notice here I used formatted string or commonly known as **f-string** to incorporate my variable within the double quotation so that it prints the value which is stored in the variable. Python will replace `{age}` with the value stored in the variable `age`.\n",
    "You put an `f` before quotes to make it an f-string and wrap the variable name within curly braces `{}` to get the value stored inside it.\n",
    "There are tons of ways to grab the value from a variable, but let’s be real, \"f-strings\" are the cool kids on the block! It’s all about personal preference, but hey, stick to one, just like you promised your partner you’d stay loyal!"
   ]
  },
  {
   "cell_type": "code",
   "execution_count": null,
   "metadata": {},
   "outputs": [],
   "source": [
    "age = 24 \n",
    "print(f\"I am {age} years old\")"
   ]
  },
  {
   "cell_type": "markdown",
   "metadata": {},
   "source": [
    "* **Float (float)**: This box holds numbers with decimals, like prices or temperatures."
   ]
  },
  {
   "cell_type": "code",
   "execution_count": null,
   "metadata": {},
   "outputs": [],
   "source": [
    "price = 10.99\n",
    "print(f\"The price is {price}\")"
   ]
  },
  {
   "cell_type": "markdown",
   "metadata": {},
   "source": [
    "* **String (str)**: This box stores words, names, or any sequence of characters (anything inside quotes)."
   ]
  },
  {
   "cell_type": "code",
   "execution_count": null,
   "metadata": {},
   "outputs": [],
   "source": [
    "first_name = \"Franklin\"\n",
    "food = \"Biriyani\"\n",
    "email = \"jhonsfranky17@gmail.com\"\n",
    "\n",
    "print(first_name)\n",
    "print(f\"Hello {first_name}\")\n",
    "print(f\"I like {food}\")\n",
    "print(f\"My email is {email}\")"
   ]
  },
  {
   "cell_type": "markdown",
   "metadata": {},
   "source": [
    "* **Boolean (bool)**: This is a Yes/No box that stores only `True` or `False`."
   ]
  },
  {
   "cell_type": "code",
   "execution_count": null,
   "metadata": {},
   "outputs": [],
   "source": [
    "is_student = True\n",
    "\n",
    "if is_student:\n",
    "    print(\"You are a student\")\n",
    "else:\n",
    "    print(\"You are not a student\")"
   ]
  },
  {
   "cell_type": "markdown",
   "metadata": {},
   "source": [
    "### Typecasting\n",
    "\n",
    "**Typecasting** is the process of converting a variable from one data type to another (text book definition but we don't want this :), I'll break it down for you).\n",
    "\n",
    "Imagine you have different types of boxes:\n",
    "* A number box (for numbers)\n",
    "* A word box (for text)\n",
    "* A decimal box (for decimal numbers)\n",
    "\n",
    "Sometimes, you need to change the type of box to fit your needs. Typecasting (or **Type Conversion**) helps you do this in Python!\n",
    "\n",
    "Here are some typecasting functions in Python that let you change the type of a variable from one to another:\n",
    "`str()`, `int()`, `float()`, `bool()`, `list()` [don't slam your heads against the wall trying to figure out lists, just hold your horses, soldier! I've got your back!]\n",
    "\n",
    "By default, Python treats all user inputs as strings, but you can easily change them to other types using typecasting.\n",
    "Even if you type a number, like `123`, Python sees it as the string `\"123\"`. If you want to work with numbers, you'll need to typecast them into an integer or float."
   ]
  },
  {
   "cell_type": "code",
   "execution_count": 1,
   "metadata": {},
   "outputs": [
    {
     "name": "stdout",
     "output_type": "stream",
     "text": [
      "<class 'int'>\n",
      "<class 'str'>\n",
      "241\n"
     ]
    }
   ],
   "source": [
    "name = \"Franklin Johnson\"\n",
    "age = 24\n",
    "gpa = 8.4\n",
    "is_student = True\n",
    "\n",
    "print(type(age)) # type() returns the type of the variable/value.\n",
    "age = str(age) # typecasting integer to string using str()\n",
    "age += \"1\" # Adding \"1\" to the string \"24\" (now age is \"241\", note that I used '+=' which is a shortcut for age = age + \"1\")\n",
    "\n",
    "print(type(age)) # Here the type of age was integer initially, but changed to string.(Don't believe me? Go ahead, hit run and watch the magic happen!)\n",
    "print(age)"
   ]
  },
  {
   "cell_type": "markdown",
   "metadata": {},
   "source": [
    "---\n",
    "\n",
    "### Built-in Functions\n",
    "\n",
    "**Built-in functions** in Python are pre-written functions that come with the language. They’re like tools you can grab from a toolbox without needing to build them yourself.\n",
    "\n",
    "Think of it this way: If you’re playing a video game and you need to open a door, you don’t have to code the door opening mechanics yourself. Python already gives you a key to open the door whenever you need it, without any extra effort!\n",
    "\n",
    "These built-in functions are super handy because they allow you to perform common tasks quickly and easily. You don't have to reinvent the wheel every time you want to do something simple like adding numbers or converting data types.\n",
    "\n",
    "Ah, I know what you're thinking - \"Do I really need to tell you some examples of built-in functions?\" Come on, you already know them! `input()`, `print()`, `type()`, they're like old friends by now. I mean, if you don’t know them yet, where have you been?\n",
    "\n",
    "But okay, for the sake of a quick refresher, let's just say these are your everyday tools in the Python toolkit. So next time when you're stuck, just think of these buddies, they've got your back just like me :)!"
   ]
  },
  {
   "cell_type": "markdown",
   "metadata": {},
   "source": [
    "### Built-in Math Functions\n",
    "\n",
    "Built-in math functions in Python are like pre-built tools in a toolbox that help you do mathematical operations easily. Instead of writing complex formulas from scratch, you can just use these functions to perform things like addition, subtraction, or even more advanced math like square roots or trigonometric calculations.\n",
    "\n",
    "Python has a **math module** that contains many of these functions. Think of it as a magic library that makes your calculations super easy and fast."
   ]
  },
  {
   "cell_type": "code",
   "execution_count": null,
   "metadata": {},
   "outputs": [],
   "source": [
    "import math # importing math module (modules are nothing but code in a separate file, you import or incorporate them in your program)\n",
    "\n",
    "print(math.pi) # returns the value of pi\n",
    "print(math.e) # returns the value of e\n",
    "print(math.sqrt(36)) # returns the square root of a number\n",
    "print(math.ceil(9.1)) # returns the rounded up value\n",
    "print(math.floor(9.9)) # returns the rounded down value\n",
    "\n",
    "x = 3.14\n",
    "y = -1\n",
    "z = 5\n",
    "\n",
    "result = round(x) # rounds off to the nearest integer\n",
    "result = abs(y) # returns the value without sign\n",
    "result = pow(x, 3) # returns the base times the power\n",
    "result = max(x, y, z) # returns the maximum among the values\n",
    "result = min(x, y, z) # returns the minimum among the values\n",
    "\n",
    "print(result) # make sure you uncomment one result at a time to see the output of different functions"
   ]
  },
  {
   "cell_type": "markdown",
   "metadata": {},
   "source": [
    "---\n",
    "\n",
    "### Conditional Statements\n",
    "\n",
    "Alright, imagine you’re standing at a fork in the road. One path leads to a candy shop and the other leads to a vegetable garden. Now, which path should you take? Well, it all depends on one thing: what you decide!\n",
    "\n",
    "This is where **conditional statements** come into play! They're like your decision-making superpower in Python. They let your program choose between different paths based on certain conditions.\n",
    "\n",
    "In Python, we use keywords like **`if`**, **`elif`** (else if), and **`else`** to make those decisions.\n",
    "\n",
    "* `if` = executes the code below only if some condition is `True`\n",
    "    * syntax: `if condition: statement`\n",
    "* `else` = executes the code below only if all the condition evaluates to `False`\n",
    "    * syntax: `if condition: statement else: statement`\n",
    "* `elif` = checks another condition if the condition in `if` evaluates to `False`\n",
    "    * syntax: `if condition: statement elif condition: statement elif condition: statement else: statement`\n",
    "\n",
    "Note that conditions always evaluate to either `True` or `False` values (Boolean: now you know what a Boolean is. You're welcome!)"
   ]
  },
  {
   "cell_type": "code",
   "execution_count": null,
   "metadata": {},
   "outputs": [],
   "source": [
    "age = int(input(\"Enter your age: \")) # typecasting to integer type because remember input() treats everything as strings\n",
    "\n",
    "if age >= 18:\n",
    "    print(\"You are eligible to vote in INDIA!\")\n",
    "elif age < 0:\n",
    "    print(\"You are not born yet!\")\n",
    "else:\n",
    "    print(\"Sorry, you are not eligible to vote in INDIA\")"
   ]
  },
  {
   "cell_type": "markdown",
   "metadata": {},
   "source": [
    "### Logical Operators\n",
    "\n",
    "Alright! Let’s talk about logical operators in Python. Think of them like the superheroes of the decision-making world. They help you combine multiple conditions together and make your program super smart.\n",
    "\n",
    "Imagine you're trying to decide whether to go out for a walk. Here's how it might go:\n",
    "\n",
    "You ask yourself: \"Is it sunny?\"\n",
    "You also ask: \"Do I have enough time?\"\n",
    "Finally, you ask: \"Am I feeling lazy?\"\n",
    "\n",
    "Now, to decide if you're going out, you’ll need to combine these conditions! Logical operators are like connectors in your decision-making. They help you combine different questions (conditions) into a single, bigger question.\n",
    "\n",
    "The three main logical operators are:\n",
    "* **`or`** = Only one condition needs to be true for the whole thing to be true.\n",
    "* **`and`** = Both conditions need to be true for the whole thing to be true.\n",
    "* **`not`** = Reverses the condition. If it's `True`, it becomes `False`; if it's `False`, it becomes `True`."
   ]
  },
  {
   "cell_type": "code",
   "execution_count": null,
   "metadata": {},
   "outputs": [],
   "source": [
    "logical or: or\n",
    "temp = 30\n",
    "is_raining = False\n",
    "\n",
    "if temp > 35 or temp < 0 or is_raining:\n",
    "    print(\"The outdoor event is cancelled\")\n",
    "else:\n",
    "    print(\"The outdoor event is still scheduled\")\n",
    "\n",
    "logical and: and\n",
    "is_sunny = True\n",
    "\n",
    "if temp >=28 and is_sunny:\n",
    "    print(\"It is hot outside\")\n",
    "    print(\"It is sunny\")\n",
    "elif temp <=0 and is_sunny:\n",
    "    print(\"It is cold outside\")\n",
    "    print(\"It is sunny\")\n",
    "elif 28 > temp > 0 and is_sunny:\n",
    "    print(\"It is warm outside\")\n",
    "    print(\"It is sunny\")\n",
    "\n",
    "logical not: not\n",
    "if temp >=28 and not is_sunny:\n",
    "    print(\"It is hot outside\")\n",
    "    print(\"It is cloudy\")\n",
    "elif temp <=0 and not is_sunny:\n",
    "    print(\"It is cold outside\")\n",
    "    print(\"It is cloudy\")\n",
    "elif 28 > temp > 0 and not is_sunny:\n",
    "    print(\"It is warm outside\")\n",
    "    print(\"It is cloudy\")"
   ]
  },
  {
   "cell_type": "markdown",
   "metadata": {},
   "source": [
    "### Conditional Expressions / Ternary Operators\n",
    "\n",
    "A one-line shortcut for the `if-else` statement. Prints or assigns one of two values based on a condition.\n",
    "\n",
    "Syntax: `X if condition else Y`"
   ]
  },
  {
   "cell_type": "code",
   "execution_count": null,
   "metadata": {},
   "outputs": [],
   "source": [
    "num = 5\n",
    "print(\"Positive\" if num > 0 else \"Negative\")"
   ]
  },
  {
   "cell_type": "markdown",
   "metadata": {},
   "source": [
    "---\n",
    "\n",
    "### String Methods\n",
    "\n",
    "They help you manipulate strings (a.k.a. text) in super cool ways without breaking a sweat! Think of them as your little helpers that take care of the boring stuff, so you can focus on having fun with your code."
   ]
  },
  {
   "cell_type": "code",
   "execution_count": null,
   "metadata": {},
   "outputs": [],
   "source": [
    "name = input(\"Enter your full name: \")\n",
    "phone_number = input(\"Enter your phone number: \")\n",
    "\n",
    "print(len(name)) # returns the length of the string\n",
    "result = name.find(\"n\") # returns the index (starts at 0) of the first occurence of the character\n",
    "result = name.rfind(\"n\") # returns the index of the last occurence of the character\n",
    "If the given character is not found in the string, python returns -1\n",
    "result = name.capitalize() # capitalizes the first character of the string\n",
    "result = name.upper() # capitalizes the entire string\n",
    "result = name.lower() # returns lowercase string\n",
    "result = name.isdigit() # returns true if the string only contains digits\n",
    "result = name.isalpha() # returns true if the string only contains alphabets\n",
    "result = phone_number.count(\"9\") # counts the number of given character in the string\n",
    "result = phone_number.replace(\"9\", \"6\") # replaces one character with another\n",
    "result = phone_number.startswith(\"0\") # returns true if the string starts with the desired character\n",
    "result = phone_number.endswith(\"0\") # returns true if the string ends with the desired character\n",
    "\n",
    "print(result)\n",
    "The list goes on! If you want to know all the string methods, print what's written below\n",
    "help(str) # returns all the string methods"
   ]
  },
  {
   "cell_type": "markdown",
   "metadata": {},
   "source": [
    "### Indexing\n",
    "\n",
    "Alright, **indexing** in Python is like having a treasure map for a string, list, or any collection where you need to find specific items. It helps you pinpoint exactly where things are located, whether you're looking for the first letter of a word or the third item in a list.\n",
    "\n",
    "In Python, indexing is the way we access individual elements in sequences like strings, lists, or tuples. It’s like going through the pages of a book and pointing directly at the one you want to read.\n",
    "\n",
    "We use the indexing operator `[]` to access individual elements.\n",
    "Syntax: `[start : end : step]`"
   ]
  },
  {
   "cell_type": "code",
   "execution_count": 2,
   "metadata": {},
   "outputs": [
    {
     "name": "stdout",
     "output_type": "stream",
     "text": [
      "1\n",
      "123-\n",
      "4343\n",
      "4343-2313-323\n",
      "3\n",
      "1-3-13\n",
      "323-3132-34343-321\n"
     ]
    }
   ],
   "source": [
    "credit_number = \"123-34343-2313-323\"\n",
    "\n",
    "print(credit_number[0]) # returns the first character of the string \n",
    "print(credit_number[:4]) # returns the characters till the end index (excluded) from the beginning if the start index is not mentioned\n",
    "print(credit_number[5:9]) # returns the characters within the range\n",
    "print(credit_number[5:]) # returns all the characters if from the start index if the end is not mentioned\n",
    "print(credit_number[-1]) # returns the last character, negative indices return characters from the end\n",
    "print(credit_number[::3]) # returns every 3rd character starting from the first character (included)\n",
    "print(credit_number[::-1]) # reverses the string, add -1 at the end to reverse the given string"
   ]
  },
  {
   "cell_type": "markdown",
   "metadata": {},
   "source": [
    "### Format Specifiers\n",
    "\n",
    "Alright, **format specifiers** are like your personal stylists for strings in Python! They help you control how values (like numbers, dates, etc.) appear in your output. Think of them as a way to tell Python, \"Hey, I want this value to look a certain way!\" and Python says, \"Got it!\"\n",
    "\n",
    "Syntax: `{value:flags}` format a value based on what flags are inserted\n",
    "\n",
    "**Flags:**\n",
    "* `.(\"number\")f` = round to that many decimal places (fixed point)\n",
    "* `:(number)` = allocate that many spaces\n",
    "* `:03` = allocate and zero pad that many spaces\n",
    "* `:<` = left justify\n",
    "* `:>` = right justify\n",
    "* `:^` = center align\n",
    "* `:+` = use a plus sign to indicate positive value\n",
    "* `:=` = place sign to leftmost position\n",
    "* `: ` = insert a space before positive numbers\n",
    "* `:,` = comma separator"
   ]
  },
  {
   "cell_type": "code",
   "execution_count": null,
   "metadata": {},
   "outputs": [],
   "source": [
    "price1 = 3.14159\n",
    "price2 = -987.65\n",
    "price3 = 12.23\n",
    "\n",
    "print(f\"Price 1 is {price1:.1f}\")\n",
    "print(f\"Price 2 is {price2:.1f}\")\n",
    "print(f\"Price 3 is {price3:.1f}\")\n",
    "\n",
    "you can also use multiple specifiers together"
   ]
  },
  {
   "cell_type": "markdown",
   "metadata": {},
   "source": [
    "---\n",
    "\n",
    "### Loops\n",
    "\n",
    "Trust me, you’ll thank me for this topic for the rest of your career!\n",
    "Imagine you want to do something over and over again, like practicing your dance moves, or maybe eating pizza (who wouldn't want to do that?). Well, loops in Python let you repeat tasks without writing the same thing again and again. Think of a loop as your personal repetition machine!\n",
    "\n",
    "In programming, loops are like repetitive tasks that you want to do over and over, but you don’t want to type the same thing repeatedly. Instead, you tell: “Hey, I want you to do this X number of times”, and the language listens to you.\n",
    "\n",
    "Loops are like the secret sauce in programming, no matter which language you’re using! I work with languages like Java, TypeScript, C, and C++ (just a humble flex), and guess what? Loops are in all of them!\n",
    "\n",
    "There are mainly two loops in python:\n",
    "* `while` loop\n",
    "* `for` loop"
   ]
  },
  {
   "cell_type": "markdown",
   "metadata": {},
   "source": [
    "#### While Loop\n",
    "\n",
    "A `while` loop executes the code WHILE some condition remains true.\n",
    "\n",
    "`while` is a kind of `if` statement (`if` executes the statements below it only once) but `while` executes the statements until the condition evaluates to `False`."
   ]
  },
  {
   "cell_type": "code",
   "execution_count": null,
   "metadata": {},
   "outputs": [],
   "source": [
    "name = input(\"Enter your name: \")\n",
    "\n",
    "while name == \"\":\n",
    "    print(\"You did not enter your name\")\n",
    "    name = input(\"Enter your name: \")\n",
    "\n",
    "print(f\"Hello {name}\")"
   ]
  },
  {
   "cell_type": "markdown",
   "metadata": {},
   "source": [
    "#### For Loop\n",
    "\n",
    "A `for` loop executes a block of code a fixed number of times.\n",
    "\n",
    "You can iterate over a range, string, sequence, etc. It's like saying, \"Do this for every item in the list, and we’ll repeat it until we’ve done everything.\" Think of it as doing homework problems one by one.\n",
    "\n",
    "Syntax: `for variable in iterable: code to be executed`"
   ]
  },
  {
   "cell_type": "code",
   "execution_count": null,
   "metadata": {},
   "outputs": [],
   "source": [
    "for i in range(1, 11): # end exclusive\n",
    "    print(i) # prints the numbers from 1 to 10\n",
    "\n",
    "for i in reversed(range(1, 11)): # counts from backwards, enclose the range function within the reversed() \n",
    "    print(i)\n",
    "\n",
    "for i in range(1, 11, 2): # returns every 2nd element starting from 'start'\n",
    "    print(i)\n",
    "\n",
    "credit_card = \"1233-2243-232-343\"\n",
    "\n",
    "for i in credit_card: # iterates over every element of the string\n",
    "    print(i)"
   ]
  },
  {
   "cell_type": "markdown",
   "metadata": {},
   "source": [
    "The keywords `continue` and `break` work in the same manner as they do with other programming languages.\n",
    "* `continue` = ignores the statements below the keyword \"continue\"\n",
    "* `break` = breaks from the loop"
   ]
  },
  {
   "cell_type": "code",
   "execution_count": 3,
   "metadata": {},
   "outputs": [
    {
     "name": "stdout",
     "output_type": "stream",
     "text": [
      "0\n",
      "TIME'S UP!\n"
     ]
    }
   ],
   "source": [
    "import time # importing time module\n",
    "\n",
    "my_time = int(input(\"Enter the time in seconds: \"))\n",
    "\n",
    "for i in range(0, my_time):\n",
    "    print(i)\n",
    "    time.sleep(1) # delays execution for a given number of seconds. The argument may be a floating-point number for subsecond precision.\n",
    "\n",
    "print(\"TIME'S UP!\")"
   ]
  },
  {
   "cell_type": "markdown",
   "metadata": {},
   "source": [
    "#### Nested Loop\n",
    "\n",
    "A nested loop is a loop within another loop (outer, inner).\n",
    "\n",
    "Syntax:\n",
    "```\n",
    "outer loop:\n",
    "    inner loop:\n",
    "```"
   ]
  },
  {
   "cell_type": "code",
   "execution_count": null,
   "metadata": {},
   "outputs": [],
   "source": [
    "for i in range(3): # iterates for 3 times\n",
    "    for j in range(1, 10): # iterates from 1 to 9\n",
    "        print(j, end = \" \") # usually end of a print statement is new line, but we can modify it with the help of \"end\" argument (Hang tight! We’ll dive into arguments and parameters soon, but first, let’s understand some basics.)\n",
    "    print() # prints new line outside inner loop"
   ]
  },
  {
   "cell_type": "markdown",
   "metadata": {},
   "source": [
    "---\n",
    "\n",
    "### Collections\n",
    "\n",
    "In programming, a **collection** refers to a group or container that holds multiple items or elements. It’s like a box where you can store different things (like toys, books, or candy), and each item inside the box is an element. The collection itself is a data structure that makes it easier to manage and manipulate these items. A single \"variable\" is used to store multiple values.\n",
    "\n",
    "#### Types\n",
    "\n",
    "* **List**: A collection of ordered items. You can think of it like a row of books on a shelf, where each book is in a specific place, and you can access them by their position (index). Represented by `[]`, ordered and changeable. Duplicates are OK.\n",
    "* **Set**: A collection of unique items (no duplicates allowed). It's like a box where you can only put one of each toy, no duplicates. Represented by `{}`, unordered and immutable, but `add`/`remove` is allowed.\n",
    "* **Tuple**: An ordered collection like a list, but immutable, meaning once you put something in a tuple, you can’t change it. It’s like a sealed box—once it’s packed, it’s done. Represented by `()`, ordered and unchangeable. Duplicates are allowed. Faster than list.\n",
    "* **Dictionary**: A collection of key-value pairs. Think of it as a contact list where each name (key) is paired with a phone number (value). Represented by `{}`, ordered and changeable, no duplicates are allowed."
   ]
  },
  {
   "cell_type": "markdown",
   "metadata": {},
   "source": [
    "#### List Examples"
   ]
  },
  {
   "cell_type": "code",
   "execution_count": null,
   "metadata": {},
   "outputs": [],
   "source": [
    "fruits = [\"apple\", \"banana\", \"grape\", \"coconut\"]\n",
    "print(fruits) # prints the entire list \n",
    "print(fruits[3]) # prints the item at the 3rd index, here coconut. Also remember indexing operator has [start : end : step]\n",
    "\n",
    "for fruit in fruits: # iterates through the list items one at a time\n",
    "    print(fruit)\n",
    "\n",
    "print(\"apple\" in fruits) # checks whether the element is present in the list or not. Returns a boolean value.\n",
    "fruits.append(\"pineapple\") # to add an element to the end of the list, use append function\n",
    "fruits.remove(\"pineapple\") # to remove an element from the list, use remove function\n",
    "fruits.insert(0, \"pineapple\") # to insert an element at the desired index, use insert function\n",
    "fruits.sort() # sorts the list in ascending order\n",
    "fruits.reverse() # reverses the list. If you want to sort the list in descending order, you sort the list first and then use the reverse function to reverse the list.\n",
    "fruits.clear() # to clear a list\n",
    "fruits.index(\"apple\") # to find the index of the desired element in the list\n",
    "fruits.count(\"apple\") # to count the number of times an element appears in the list, use count function as list supports duplicates."
   ]
  },
  {
   "cell_type": "markdown",
   "metadata": {},
   "source": [
    "#### Set Examples"
   ]
  },
  {
   "cell_type": "code",
   "execution_count": null,
   "metadata": {},
   "outputs": [],
   "source": [
    "fruits = {\"apple\", \"banana\", \"pineapple\", \"grape\"}\n",
    "print(fruits) # unordered when printing\n",
    "\n",
    "fruits.add(\"orange\") # adds an element to the set\n",
    "fruits.remove(\"apple\") # removes an element from the set\n",
    "fruits.pop() # removes the first element from the set but it is unordered"
   ]
  },
  {
   "cell_type": "markdown",
   "metadata": {},
   "source": [
    "#### Tuple Examples"
   ]
  },
  {
   "cell_type": "code",
   "execution_count": null,
   "metadata": {},
   "outputs": [],
   "source": [
    "fruits = (\"apple\", \"banana\", \"pineapple\", \"grape\")\n",
    "print(len(fruits)) # returns the length of the tuple\n",
    "print(fruits.index(\"apple\")) # returns the index of the element in the set\n",
    "print(fruits.count(\"apple\")) # returns the count of the element"
   ]
  },
  {
   "cell_type": "markdown",
   "metadata": {},
   "source": [
    "#### 2D List\n",
    "\n",
    "A 2D List is made up of lists within a list. You can do the same with tuple and set.\n"
   ]
  },
  {
   "cell_type": "code",
   "execution_count": null,
   "metadata": {},
   "outputs": [],
   "source": [
    "fruits = [\"apple\", \"oranges\", \"banana\"]\n",
    "vegetables = [\"celery\", \"carrots\", \"potatoes\"]\n",
    "meats = [\"chicken\", \"fish\", \"turkey\"]\n",
    "\n",
    "groceries = [fruits, vegetables, meats] # one way of creating a 2D list\n",
    "groceries = [[\"apple\", \"oranges\", \"banana\"],\n",
    "             [\"celery\", \"carrots\", \"potatoes\"],\n",
    "             [\"chicken\", \"fish\", \"turkey\"]\n",
    "             ] # another way of creating a 2D list\n",
    "\n",
    "print(groceries[0][2]) # to access an element in a 2D List, we use two indexing operators (think of 2D Lists as Matrices)"
   ]
  },
  {
   "cell_type": "markdown",
   "metadata": {},
   "source": [
    "#### Dictionary Examples"
   ]
  },
  {
   "cell_type": "code",
   "execution_count": null,
   "metadata": {},
   "outputs": [],
   "source": [
    "capitals = {\n",
    "    \"USA\" : \"Washington DC\",\n",
    "    \"India\" : \"New Delhi\",\n",
    "    \"China\" : \"Beijing\",\n",
    "    \"Russia\" : \"Moscow\"\n",
    "}\n",
    "\n",
    "print(capitals.get(\"India\")) # accessing values in a dictionary using the key\n",
    "capitals.update({\"Germany\" : \"Berlin\"}) # to add a new {key:value} pair to the dictionary\n",
    "capitals.update({\"USA\" : \"Detroit\"}) # you can also use the update method to update the existing {key:value} pair\n",
    "capitals.pop(\"China\") # to remove a {key:value} pair from the dictionary, use pop method\n",
    "capitals.popitem() # to remove the latest {key:value} pair added\n",
    "capitals.clear() # to clear the dictionary\n",
    "\n",
    "keys = capitals.keys() # returns all the keys of the dictionary\n",
    "\n",
    "for key in keys: # iterating through every key of the dictionary\n",
    "    print(key)\n",
    "\n",
    "for value in capitals.values(): # iterating through all the values in the dictionary\n",
    "    print(value)\n",
    "\n",
    "items = capitals.items() # returns a 2D list of tuples like object providing a view on the dict's items\n",
    "\n",
    "for key, value in items: # iterating through each key value pair and printing it\n",
    "    print(f\"{key} : {value}\")"
   ]
  },
  {
   "cell_type": "markdown",
   "metadata": {},
   "source": [
    "### Concession Stand Program"
   ]
  },
  {
   "cell_type": "code",
   "execution_count": null,
   "metadata": {},
   "outputs": [],
   "source": [
    "menu = {\n",
    "    \"pizza\" : 3.00,\n",
    "    \"popcorn\" : 4.50,\n",
    "    \"pepsi\" : 3.00,\n",
    "    \"fries\" : 2.50,\n",
    "    \"chips\" : 4.50,\n",
    "    \"pretzel\" : 5.00\n",
    "}\n",
    "cart = []\n",
    "total = 0\n",
    "\n",
    "while True:\n",
    "    food = input(\"Add a food item to the cart (q to quit): \").lower()\n",
    "    if food == \"q\":\n",
    "        break\n",
    "    elif menu.get(food) is not None:\n",
    "        cart.append(food)\n",
    "        total += menu.get(food)\n",
    "    else:\n",
    "        print(f\"{food} is not present in the menu\")\n",
    "\n",
    "for item in cart:\n",
    "    print(item, end=\" \")\n",
    "\n",
    "print(f\"TOTAL: {total}\")"
   ]
  },
  {
   "cell_type": "markdown",
   "metadata": {},
   "source": [
    "---\n",
    "\n",
    "### Generating Random Numbers\n",
    "\n",
    "It's way easier in Python compared to other languages.\n",
    "Python has a built-in `random` module for this."
   ]
  },
  {
   "cell_type": "code",
   "execution_count": null,
   "metadata": {},
   "outputs": [],
   "source": [
    "import random # importing module named \"random\"\n",
    "\n",
    "options = (\"rock\", \"paper\", \"scissors\")\n",
    "cards = [\"2\", \"3\", \"4\", \"A\", \"J\", \"K\", \"Q\", \"10\"]\n",
    "\n",
    "number = random.randint(1, 6) # generates a random whole integer within the range specified\n",
    "number = random.random() # returns a random floating point number between 0 and 1\n",
    "option = random.choice(options) # returns a random choice from the options tuple (This is why Python is the superhero of competitive coding! I mean, generating a random choice from a list is a breeze here, but in Java, Well, let’s just say, you'd need a whole team of engineers to get it done!)\n",
    "\n",
    "random.shuffle(cards) # randomly shuffles the cards list\n",
    "\n",
    "print(cards)"
   ]
  },
  {
   "cell_type": "markdown",
   "metadata": {},
   "source": [
    "---\n",
    "\n",
    "### Functions\n",
    "\n",
    "Alright! Imagine you have a magic box. Every time you put something in the box and ask it to do something, it gives you back a result. For example, you put in a number, and the box gives you back double that number. Or you put in a name, and the box says \"Hello, [name]!\"\n",
    "\n",
    "In programming, **functions** are like these magic boxes. You put in something (called \"arguments\"), and the function gives you back something (called the \"return value\").\n",
    "A function is a block of reusable code that can be invoked/called as and when required.\n",
    "\n",
    "Place `()` after the function name to invoke it."
   ]
  },
  {
   "cell_type": "code",
   "execution_count": null,
   "metadata": {},
   "outputs": [],
   "source": [
    "def hello_world(): # using \"def\" keyword, we \"define a function\" followed by a valid function name, paranthesis and a colon\n",
    "    print(\"Hello World!\")\n",
    "    print(\"My name is Franklin Jetty Johnson\")\n",
    "    print(\"I am 24 years old\")\n",
    "    print(\"I am currently doing Data Science in IIT Guwahati\")\n",
    "    print(\"Thank You!\") \n",
    "\n",
    "hello_world() # invoking the function"
   ]
  },
  {
   "cell_type": "markdown",
   "metadata": {},
   "source": [
    "#### Return Statement\n",
    "\n",
    "The `return` statement is used to end a function and send a result back to the caller."
   ]
  },
  {
   "cell_type": "code",
   "execution_count": 4,
   "metadata": {},
   "outputs": [
    {
     "name": "stdout",
     "output_type": "stream",
     "text": [
      "30\n"
     ]
    }
   ],
   "source": [
    "def add(x, y):\n",
    "    return x + y\n",
    "\n",
    "print(add(10, 20))"
   ]
  },
  {
   "cell_type": "markdown",
   "metadata": {},
   "source": [
    "#### Arguments and Parameters\n",
    "\n",
    "Ask a senior software engineer what a parameter and an argument are, and there’s a good chance they’ll give you a confused look like they’ve just been asked to solve a Rubik's cube blindfolded. The names are like twins, similar, but you’re never quite sure which one is which! I'll break it down for you so that next time someone asks you the difference between the both, you can easily answer.\n",
    "\n",
    "* **Parameter**: A parameter is like a placeholder inside the function that tells you what kind of ingredient the magic box needs. It's like saying, \"Hey, I need a number!\" but not specifying what number exactly. It’s just the name of the ingredient.\n",
    "* **Argument**: An argument is the actual thing you put into the magic box when you call the function. It’s like saying, “Here’s the number I’m giving you!” It’s the real ingredient that goes into the function."
   ]
  },
  {
   "cell_type": "code",
   "execution_count": null,
   "metadata": {},
   "outputs": [],
   "source": [
    "def greet(name):  # \"name\" is the parameter\n",
    "    print(\"Hello, \" + name + \"!\")\n",
    "\n",
    "greet(\"Alice\")  # \"Alice\" is the argument\n",
    "greet(\"Bob\")    # \"Bob\" is the argument"
   ]
  },
  {
   "cell_type": "markdown",
   "metadata": {},
   "source": [
    "#### Different Types of Arguments\n",
    "\n",
    "* **Default Arguments**: You can set a default value for a parameter. This is used when that argument is omitted in the function call, making your functions more flexible. Note that the Default parameters should be at the end of the parameter list."
   ]
  },
  {
   "cell_type": "code",
   "execution_count": null,
   "metadata": {},
   "outputs": [],
   "source": [
    "def net_price(list_price, discount = 0, tax = 0.05):\n",
    "    return list_price * (1 - discount) * (1 + tax)\n",
    "\n",
    "print(net_price(500)) # here discount and tax are not given in the function call and hence they take their default values 0 and 0.05 respectively."
   ]
  },
  {
   "cell_type": "markdown",
   "metadata": {},
   "source": [
    "* **Keyword Arguments**: an argument preceded by an identifier, which helps with readability."
   ]
  },
  {
   "cell_type": "code",
   "execution_count": null,
   "metadata": {},
   "outputs": [],
   "source": [
    "def hello(greeting, title, first, last):\n",
    "    print(f\"{greeting} {title} {first} {last}\")\n",
    "\n",
    "hello(first=\"Franklin\", greeting=\"Hello\", last=\"Johnson\", title=\"Mr.\",) # order does not matter when you are using keyword arguments\n",
    "\n",
    "print(\"1\", \"2\", \"3\", \"4\", \"5\", sep=\"-\") # here sep is a keyword argument"
   ]
  },
  {
   "cell_type": "markdown",
   "metadata": {},
   "source": [
    "* **Arbitrary Arguments**\n",
    "    * `*args`: allows you to pass multiple non-key arguments. `*` is the unpacking operator.\n",
    "    * `**kwargs`: allows you to pass multiple keyword-arguments."
   ]
  },
  {
   "cell_type": "code",
   "execution_count": null,
   "metadata": {},
   "outputs": [],
   "source": [
    "def add(*nums): # nums is a tuple which consists of all the arguments passed when invoked\n",
    "    total = 0\n",
    "    for num in nums:\n",
    "        total+= num\n",
    "    return total\n",
    "\n",
    "print(add(1,2,3,4,5,6,7))\n",
    "\n",
    "def print_details(**kwargs): # kwargs is a dictionary, so you can traverse through kwargs as you would traverse through a dictionary\n",
    "    for key, value in kwargs.items():\n",
    "        print(f\"{key} : {value}\")\n",
    "\n",
    "print_details(first_name=\"Franklin\", last_name=\"Johnson\", age=24, state=\"Kerala\")"
   ]
  },
  {
   "cell_type": "markdown",
   "metadata": {},
   "source": [
    "---\n",
    "\n",
    "### Membership Operators\n",
    "\n",
    "Used to test whether a value or variable is found in a sequence (string, list, tuple, set, or dictionary).\n",
    "\n",
    "1. `in`\n",
    "2. `not in`"
   ]
  },
  {
   "cell_type": "code",
   "execution_count": 5,
   "metadata": {},
   "outputs": [
    {
     "name": "stdout",
     "output_type": "stream",
     "text": [
      "sasas is not present in the word\n",
      " is present in the word FRANKLIN\n",
      " is present in the word\n"
     ]
    }
   ],
   "source": [
    "word = \"FRANKLIN\"\n",
    "\n",
    "letter = input(\"Enter a letter: \")\n",
    "\n",
    "while True:\n",
    "    if letter in word:\n",
    "        print(f\"{letter} is present in the word {word}\")\n",
    "        break\n",
    "    else:\n",
    "        print(f\"{letter} is not present in the word\")\n",
    "        letter = input(\"Enter a letter: \")\n",
    "\n",
    "if letter not in word:\n",
    "    print(f\"{letter} is not present in the word\")\n",
    "else:\n",
    "    print(f\"{letter} is present in the word\")"
   ]
  },
  {
   "cell_type": "markdown",
   "metadata": {},
   "source": [
    "---\n",
    "\n",
    "### List Comprehension\n",
    "\n",
    "A concise way to create lists in Python. It's compact and easier to read than traditional loops.\n",
    "\n",
    "Syntax: `[expression for value in iterable if condition (optional)]`"
   ]
  },
  {
   "cell_type": "code",
   "execution_count": null,
   "metadata": {},
   "outputs": [],
   "source": [
    "doubles = [x * 2 for x in range(1,11)]\n",
    "print(doubles)\n",
    "\n",
    "fruits = [\"apple\", \"banana\", \"orange\", \"pineapple\"]\n",
    "fruits = [fruit.upper() for fruit in fruits]\n",
    "print(fruits)\n",
    "\n",
    "numbers = [1,2,-2,0,-5,9]\n",
    "positive_numbers = [number for number in numbers if number >= 0] # read as for every number in iterable numbers, if the number is greater than or equal to 0, return the number\n",
    "negative_numbers = [number for number in numbers if number < 0]  # read as for every number in iterable numbers, if the number is less than 0, return the number\n",
    "\n",
    "print(positive_numbers)\n",
    "print(negative_numbers)"
   ]
  },
  {
   "cell_type": "markdown",
   "metadata": {},
   "source": [
    "---\n",
    "\n",
    "### Match-Case Statement (Switch)\n",
    "\n",
    "An alternative to using many `elif` statements. It executes some code if a value matches a `case`. The benefits are that the syntax is cleaner and more readable.\n",
    "\n",
    "* `_` is considered as a wildcard; if no other case is true, this case will be triggered."
   ]
  },
  {
   "cell_type": "code",
   "execution_count": null,
   "metadata": {},
   "outputs": [],
   "source": [
    "def day_of_week(day):\n",
    "    match day:\n",
    "        case 1:\n",
    "            print(\"Sunday\")\n",
    "        case 2:\n",
    "            print(\"Monday\")\n",
    "        case 3:\n",
    "            print(\"Tuesday\")\n",
    "        case 4:\n",
    "            print(\"Wednesday\")\n",
    "        case 5:\n",
    "            print(\"Thursday\")\n",
    "        case 6:\n",
    "            print(\"Friday\")\n",
    "        case 7: \n",
    "            print(\"Saturday\")\n",
    "        case _: # '_' is considered as a wildcard, if no other case is true, this case will be triggered\n",
    "            print(\"Not a valid day\")\n",
    "\n",
    "day_of_week(1)\n",
    "\n",
    "def is_weekend(day):\n",
    "    match day:\n",
    "        case \"Saturday\" | \"Sunday\":\n",
    "            return True\n",
    "        case \"Monday\" | \"Tuesday\" | \"Wednesday\" | \"Thursday\" | \"Friday\":\n",
    "            return False\n",
    "        case _:\n",
    "            return False\n",
    "\n",
    "print(is_weekend(\"Monday\"))"
   ]
  },
  {
   "cell_type": "markdown",
   "metadata": {},
   "source": [
    "---\n",
    "\n",
    "### Modules\n",
    "\n",
    "A **module** is a file containing code you want to include in your program. You can use `import` to include a module (built-in or your own). It is useful to break up a large program into reusable separate files."
   ]
  },
  {
   "cell_type": "code",
   "execution_count": null,
   "metadata": {},
   "outputs": [],
   "source": [
    "import math\n",
    "print(math.pi)\n",
    "\n",
    "import math as m # giving an alias\n",
    "print(m.pi)\n",
    "\n",
    "from math import pi \n",
    "print(pi)"
   ]
  },
  {
   "cell_type": "markdown",
   "metadata": {},
   "source": [
    "---\n",
    "\n",
    "### Variable Scope\n",
    "\n",
    "**Variable scope** is where a variable is visible and accessible.\n",
    "\n",
    "**Scope Resolution:** (LEGB) Local -> Enclosed -> Global -> Built-in."
   ]
  },
  {
   "cell_type": "markdown",
   "metadata": {},
   "source": [
    "### Substitution Cipher Encryption Program"
   ]
  },
  {
   "cell_type": "code",
   "execution_count": null,
   "metadata": {},
   "outputs": [],
   "source": [
    "import random\n",
    "import string\n",
    "\n",
    "chars = string.punctuation + string.digits + string.ascii_letters\n",
    "chars = list(chars)\n",
    "keys = chars.copy()\n",
    "\n",
    "random.shuffle(keys)\n",
    "\n",
    "plain_text = input(\"Enter a message to encrypt: \")\n",
    "cipher_text = \"\"\n",
    "\n",
    "# encryption\n",
    "for letter in plain_text:\n",
    "    index = chars.index(letter)\n",
    "    cipher_text += keys[index]\n",
    "\n",
    "print(f\"Original message: {plain_text}\")\n",
    "print(f\"Encrypted message: {cipher_text}\")\n",
    "\n",
    "# decryption\n",
    "\n",
    "cipher_text = input(\"Enter a message to decrypt: \")\n",
    "plain_text = \"\"\n",
    "\n",
    "for letter in cipher_text:\n",
    "    index = keys.index(letter)\n",
    "    plain_text += chars[index]\n",
    "\n",
    "print(f\"Original message: {cipher_text}\")\n",
    "print(f\"Decrypted message: {plain_text}\")"
   ]
  },
  {
   "cell_type": "markdown",
   "metadata": {},
   "source": [
    "---\n",
    "\n",
    "### Class and Object\n",
    "\n",
    "You definitely don’t want to skip this, trust me, you’ll regret it later!\n",
    "\n",
    "Let’s think of objects like action figures or stuffed animals.\n",
    "\n",
    "A **class** is like the manual or instructions that tells you how to create your action figure. It tells you what features your action figure should have. For example, an action figure might have a name, color, and a special move.\n",
    "\n",
    "An **object** is the actual action figure you create using the manual! Each action figure (object) has the features defined in the manual (class), but each action figure can be a little different. One might be named \"Superhero Steve,\" and another might be named \"Princess Sally,\" but both are action figures.\n",
    "\n",
    "A \"bundle\" of related attributes (variable) and methods (functions).\n",
    "You need a \"class\" to create many objects."
   ]
  },
  {
   "cell_type": "code",
   "execution_count": 6,
   "metadata": {},
   "outputs": [
    {
     "name": "stdout",
     "output_type": "stream",
     "text": [
      "BMW\n",
      "2025\n",
      "Black\n",
      "False\n",
      "Benz\n",
      "2024\n",
      "White\n",
      "True\n",
      "You drive the BMW\n",
      "You stop the BMW\n"
     ]
    }
   ],
   "source": [
    "class Car: # class is created using the keyword class and note that I am making the first letter of my class name capital.\n",
    "    def __init__(self, model, year, color, for_sale): # constructor to initialise the object (constructor explained below)\n",
    "        self.model = model\n",
    "        self.year = year\n",
    "        self.color = color\n",
    "        self.for_sale = for_sale\n",
    "\n",
    "    def drive(self): # method (function inside an object)\n",
    "        print(f\"You drive the {self.model}\")\n",
    "\n",
    "    def stop(self): # method (function inside an object)\n",
    "        print(f\"You stop the {self.model}\")\n",
    "\n",
    "car1 = Car(\"BMW\", 2025, \"Black\", False) # creating an object\n",
    "car2 = Car(\"Benz\", 2024, \"White\", True) # creating an object\n",
    "\n",
    "print(car1.model)\n",
    "print(car1.year)\n",
    "print(car1.color)\n",
    "print(car1.for_sale)\n",
    "\n",
    "print(car2.model)\n",
    "print(car2.year)\n",
    "print(car2.color)\n",
    "print(car2.for_sale)\n",
    "\n",
    "car1.drive()\n",
    "car1.stop()"
   ]
  },
  {
   "cell_type": "markdown",
   "metadata": {},
   "source": [
    "#### Constructor\n",
    "\n",
    "In Python, a **constructor** is a special method inside a class that gets called when you create an object (instance) of that class. It's like when you build a new toy from a box of parts, and the constructor is the person who sets everything up for you right when you open the box!\n",
    "\n",
    "In Python, we use a special method `__init__` to initialise the object (methods that start with double underscore are called as dunder methods or magic functions, which we will explain in depth later!). Any function defined inside a class is called as a **method**."
   ]
  },
  {
   "cell_type": "markdown",
   "metadata": {},
   "source": [
    "#### Class Variables\n",
    "\n",
    "**Class variables** are shared among all instances (objects) of a class and are defined outside the constructor. They allow you to share data among all objects created from that class."
   ]
  },
  {
   "cell_type": "code",
   "execution_count": null,
   "metadata": {},
   "outputs": [],
   "source": [
    "class Car: # class name should be capital\n",
    "\n",
    "    company = \"Honda\" # class variables are accessed by all objects, hence declared outside the constructor\n",
    "\n",
    "    def __init__(self, model, year, color, for_sale): # constructor to initialise the object\n",
    "        self.model = model\n",
    "        self.year = year\n",
    "        self.color = color\n",
    "        self.for_sale = for_sale\n",
    "\n",
    "\n",
    "print(Car.company) # you can also access the class variable using any of the objects but it is best to use it with the class name"
   ]
  },
  {
   "cell_type": "markdown",
   "metadata": {},
   "source": [
    "### Inheritance\n",
    "\n",
    "A must-know topic in interviews!\n",
    "\n",
    "**Inheritance** in Python is like when a child gets traits or abilities from their parents. Just like how you might inherit things like your hair color, height, or love for pizza from your parents, classes in Python can inherit features and behaviors from other classes.\n",
    "\n",
    "In programming, inheritance allows a class (called a **child class**) to inherit the properties and methods of another class (called a **parent class**). This way, you don’t have to rewrite code, and you can reuse and extend the functionality of the parent class.\n",
    "\n",
    "Syntax: `class Child(Parent)`"
   ]
  },
  {
   "cell_type": "code",
   "execution_count": null,
   "metadata": {},
   "outputs": [],
   "source": [
    "class Animal: # parent class\n",
    "    def __init__(self, name):\n",
    "        self.name = name\n",
    "        self.is_alive = True\n",
    "\n",
    "    def eat(self):\n",
    "        print(f\"{self.name} is eating\")\n",
    "\n",
    "    def sleep(self):\n",
    "        print(f\"{self.name} is sleeping\")\n",
    "\n",
    "class Dog(Animal): # inheriting parent class \"Animal\"\n",
    "    def speak(self):\n",
    "        print(\"WOOF!\")\n",
    "\n",
    "class Cat(Animal): # inheriting parent class \"Animal\"\n",
    "    def speak(self):\n",
    "        print(\"MEOW!\")\n",
    "\n",
    "class Mouse(Animal): # inheriting parent class \"Animal\"\n",
    "    def speak(self):\n",
    "        print(\"SQUEEK!\")\n",
    "\n",
    "dog = Dog(\"Scooby\")\n",
    "cat = Cat(\"Liz\")\n",
    "mouse = Mouse(\"Rode\")\n",
    "\n",
    "print(cat.name)\n",
    "print(cat.is_alive)\n",
    "\n",
    "cat.eat()\n",
    "cat.sleep()\n",
    "dog.speak()\n",
    "cat.speak()\n",
    "mouse.speak()"
   ]
  },
  {
   "cell_type": "markdown",
   "metadata": {},
   "source": [
    "#### Types of Inheritance\n",
    "\n",
    "* **Multiple Inheritance**: This is when a child class inherits from two or more parent classes. It’s like a child getting traits from both parents and grandparents.\n",
    "* **Multilevel Inheritance**: This is when a child class inherits from a parent class, and then another class inherits from that child class. It’s like a family tree, where traits pass down from generation to generation."
   ]
  },
  {
   "cell_type": "code",
   "execution_count": null,
   "metadata": {},
   "outputs": [],
   "source": [
    "class Animal:\n",
    "\n",
    "    def __init__(self, name):\n",
    "        self.name = name\n",
    "\n",
    "    def eat(self):\n",
    "        print(f\"{self.name} is eating\")\n",
    "    def sleep(self):\n",
    "        print(f\"{self.name} is sleeping\")\n",
    "\n",
    "class Prey(Animal):\n",
    "    def flee(self):\n",
    "        print(f\"{self.name} is fleeing\")\n",
    "\n",
    "class Predator(Animal):\n",
    "    def hunt(self):\n",
    "        print(f\"{self.name} is hunting\")\n",
    "\n",
    "class Rabbit(Prey):\n",
    "    pass\n",
    "\n",
    "class Hawk(Predator):\n",
    "    pass\n",
    "\n",
    "class Fish(Prey, Predator): # multiple inheritance\n",
    "    pass\n",
    "\n",
    "rabbit = Rabbit(\"Bugs\")\n",
    "hawk = Hawk(\"Tony\")\n",
    "fish = Fish(\"Nemo\")\n",
    "\n",
    "rabbit.flee()\n",
    "hawk.hunt()\n",
    "\n",
    "fish.hunt()\n",
    "fish.flee()\n",
    "\n",
    "rabbit.eat()\n",
    "rabbit.sleep()\n",
    "\n",
    "fish.eat()\n",
    "fish.sleep()\n",
    "\n",
    "rabbit.eat()"
   ]
  },
  {
   "cell_type": "markdown",
   "metadata": {},
   "source": [
    "#### `super()`\n",
    "\n",
    "In Python, `super()` is a built-in function that allows you to call a method from a parent class within a child class. It's used to access inherited methods from a parent class, especially in object-oriented programming (OOP). It also allows you to extend the functionality of the inherited methods."
   ]
  },
  {
   "cell_type": "code",
   "execution_count": null,
   "metadata": {},
   "outputs": [],
   "source": [
    "class Shape:\n",
    "    def __init__(self, color, filled):\n",
    "        self.color = color\n",
    "        self.filled = filled\n",
    "\n",
    "class Circle(Shape):\n",
    "    def __init__(self, color, filled, radius):\n",
    "        super().__init__(color, filled)\n",
    "        self.radius = radius\n",
    "\n",
    "class Square(Shape):\n",
    "    def __init__(self, color, filled, width):\n",
    "        super().__init__(color, filled)\n",
    "        self.width = width\n",
    "\n",
    "class Triangle(Shape):\n",
    "    def __init__(self, color, filled, width, height):\n",
    "        super().__init__(color, filled)\n",
    "        self.width = width\n",
    "        self.height = height\n",
    "\n",
    "circle = Circle(\"red\", True, 5)\n",
    "print(circle.color)\n",
    "print(circle.filled)\n",
    "print(circle.radius)\n",
    "\n",
    "square = Square(\"green\", True, 5)\n",
    "print(square.color)\n",
    "print(square.filled)\n",
    "print(square.width)\n",
    "\n",
    "triangle = Triangle(\"yellow\", True, 5, 10)\n",
    "print(triangle.color)\n",
    "print(triangle.filled)\n",
    "print(triangle.width)\n",
    "print(triangle.height)"
   ]
  },
  {
   "cell_type": "markdown",
   "metadata": {},
   "source": [
    "---\n",
    "\n",
    "### Polymorphism\n",
    "\n",
    "Ah, Polymorphism! Now we're getting into some cool stuff in programming!\n",
    "\n",
    "Let’s break it down like you’re a 10-year-old:\n",
    "Imagine you have a magic button in your house. When you press it, it can do different things based on who is pressing it:\n",
    "* When Mom presses the button, it makes dinner.\n",
    "* When Dad presses the button, it makes a coffee.\n",
    "* When You press the button, it plays music.\n",
    "\n",
    "Even though you’re pressing the same button, the action it performs is different. That’s **Polymorphism** in action!\n",
    "\n",
    "Polymorphism is a fancy word that basically means \"many shapes\" or \"many forms\". In programming, it means that one function or method can work with different types of objects in different ways. It allows you to use a single interface for different data types.\n",
    "\n",
    "Two ways to achieve polymorphism:\n",
    "1.  **Inheritance**: an object could be treated of the same type as a parent class.\n",
    "2.  **\"Duck Typing\"**: an object must have necessary attributes/methods."
   ]
  },
  {
   "cell_type": "markdown",
   "metadata": {},
   "source": [
    "#### Duck Typing\n",
    "\n",
    "The programming concept that sounds like it came straight from a farm, right? But trust me, it’s way cooler than it sounds!\n",
    "\n",
    "In **duck typing**, the type or class of an object is determined by its behavior, not by its specific type. Simply put, if it looks like a duck, swims like a duck, and quacks like a duck, then it’s a duck, even if it’s technically not a duck at all!\n",
    "\n",
    "You don’t have to check the type of an object before using it. If an object has the required method or behavior, Python lets you use it without caring what it is. As long as the object can do what you expect, you don’t need to worry about what class or type it is. This is another way to achieve polymorphism besides inheritance."
   ]
  },
  {
   "cell_type": "code",
   "execution_count": null,
   "metadata": {},
   "outputs": [],
   "source": [
    "class Animal:\n",
    "    alive = True\n",
    "\n",
    "class Dog(Animal):\n",
    "    def speak(self):\n",
    "        print(\"WOOF!\")\n",
    "\n",
    "class Cat(Animal):\n",
    "    def speak(self):\n",
    "        print(\"MEOW\")\n",
    "\n",
    "class Car:\n",
    "    alive = False\n",
    "\n",
    "    def speak(self):\n",
    "        print(\"HONK!\")\n",
    "\n",
    "animals = [Dog(), Cat(), Car()]\n",
    "\n",
    "for animal in animals:\n",
    "    animal.speak()\n",
    "    print(animal.alive)"
   ]
  },
  {
   "cell_type": "markdown",
   "metadata": {},
   "source": [
    "### Static Methods\n",
    "\n",
    "A **static method** in Python is a method that belongs to a class, but doesn’t depend on any instance of the class (no need to create an object). It doesn’t need access to any instance-specific data—it's a standalone function that’s just inside a class for organization. They are best for utility functions that do not need access to class data.\n",
    "\n",
    "Static methods are accessed using the class name, not by any objects."
   ]
  },
  {
   "cell_type": "code",
   "execution_count": null,
   "metadata": {},
   "outputs": [],
   "source": [
    "class Employee:\n",
    "\n",
    "    def __init__(self, name, position):\n",
    "        self.name = name\n",
    "        self.position = position\n",
    "\n",
    "    def get_info(self):\n",
    "        return f\"{self.name} = {self.position}\"\n",
    "\n",
    "    @staticmethod\n",
    "    def is_valid_position(position):\n",
    "        valid_positions = [\"Manager\", \"Cook\", \"CEO\", \"CTO\", \"Janitor\"]\n",
    "        return position in valid_positions\n",
    "\n",
    "print(Employee.is_valid_position(\"Janitor\")) # static methods are accessed using class name not by any objects"
   ]
  },
  {
   "cell_type": "markdown",
   "metadata": {},
   "source": [
    "### Class Methods\n",
    "\n",
    "A **class method** is a method that belongs to the class rather than the instance. It has access to the class itself and can modify class-level variables. The key difference from instance methods is that class methods use `cls` as their first argument (not `self`), and they’re defined using the `@classmethod` decorator.\n",
    "\n",
    "Class methods are best for class-level data or require access to the class itself."
   ]
  },
  {
   "cell_type": "code",
   "execution_count": null,
   "metadata": {},
   "outputs": [],
   "source": [
    "class Student:\n",
    "\n",
    "    count = 0\n",
    "\n",
    "    def __init__(self, name, roll_no):\n",
    "        self.name = name\n",
    "        self.roll_no = roll_no\n",
    "        Student.count += 1\n",
    "\n",
    "    def get_info(self):\n",
    "        print(f\"{self.name} : {self.roll_no}\")\n",
    "\n",
    "    @classmethod\n",
    "    def get_count(cls):\n",
    "        print(f\"Total number of students: {cls.count}\")\n",
    "\n",
    "student1 = Student(\"Franklin\", 10)\n",
    "student2 = Student(\"Freddy\", 11)\n",
    "student3 = Student(\"Jen\", 14)\n",
    "\n",
    "Student.get_count()"
   ]
  },
  {
   "cell_type": "markdown",
   "metadata": {},
   "source": [
    "**Quick Recap!**\n",
    "* **Instance Methods** = best for operations on instances of the class (objects)\n",
    "* **Static Methods** = best for utility functions that do not need access to class data\n",
    "* **Class Methods** = best for class-level data or require access to the class itself"
   ]
  },
  {
   "cell_type": "markdown",
   "metadata": {},
   "source": [
    "---\n",
    "\n",
    "### Magic Methods (The secret wizards of Python)\n",
    "\n",
    "**Magic methods**, a.k.a. **dunder methods** (because they start and end with double underscores), are special methods in Python that allow you to customize the behavior of your objects. They might seem like magic at first, but they’re just Python’s way of letting you define how objects behave when they’re interacted with in certain ways.\n",
    "\n",
    "Think of them as wizards that come out when you do something special with your objects—like adding two objects, comparing them, or printing them!\n",
    "\n",
    "Commonly used dunder methods: `__init__`, `__str__`, `__eq__`"
   ]
  },
  {
   "cell_type": "code",
   "execution_count": 8,
   "metadata": {},
   "outputs": [
    {
     "name": "stdout",
     "output_type": "stream",
     "text": [
      "The Alchemist by Paulo Coelho\n",
      "The Alchemist by Paulo Coelho\n",
      "The Alchemist by Paulo Coelho\n",
      "True\n",
      "True\n"
     ]
    }
   ],
   "source": [
    "class Book:\n",
    "\n",
    "    def __init__(self, name, author):\n",
    "        self.name = name\n",
    "        self.author = author\n",
    "\n",
    "    def __str__(self):\n",
    "        return f\"{self.name} by {self.author}\"\n",
    "\n",
    "    def __eq__(self, other): # self holds the first object and other holds the second object\n",
    "        return self.name == other.name and self.author == other.author # returns a boolean based on the evaluation\n",
    "\n",
    "book1 = Book(\"The Alchemist\", \"Paulo Coelho\")\n",
    "book2 = Book(\"The Alchemist\", \"Paulo Coelho\")\n",
    "\n",
    "print(book1) # if we try to print the object directly, it will give us the memory address. \n",
    "# If we want to customize this behavior, we can use magic method __str__ to return whatever we want\n",
    "\n",
    "print(book1)\n",
    "print(book2)\n",
    "\n",
    "print(book1 == book2) # returns false even if the name and the author of the books is the same. We can use __eq__ to customize it\n",
    "\n",
    "print(book1 == book2) # returns true after customizing the magic method __eq__"
   ]
  },
  {
   "cell_type": "markdown",
   "metadata": {},
   "source": [
    "---\n",
    "\n",
    "### `@property`\n",
    "\n",
    "`@property` is a decorator used to define a method as a property (it can be accessed like an attribute). The benefit is that you can add additional logic when you read, write, or delete attributes. It gives you getter, setter, and deleter methods."
   ]
  },
  {
   "cell_type": "code",
   "execution_count": 9,
   "metadata": {},
   "outputs": [
    {
     "name": "stdout",
     "output_type": "stream",
     "text": [
      "5.0cm\n",
      "10.0cm\n",
      "New values: \n",
      "9.0cm\n",
      "9.0cm\n",
      "Width has been deleted\n",
      "Height has been deleted\n"
     ]
    }
   ],
   "source": [
    "class Rectangle:\n",
    "\n",
    "    def __init__(self, width, height):\n",
    "        self._width = width # by preceding an underscore, we turn the variable into protected type which can only be accessed within the class\n",
    "        self._height = height # by preceding an underscore, we turn the variable into protected type which can only be accessed within the class\n",
    "\n",
    "\n",
    "    @property\n",
    "    def width(self):\n",
    "        return f\"{self._width:.1f}cm\"\n",
    "\n",
    "    @property\n",
    "    def height(self):\n",
    "        return f\"{self._height:.1f}cm\"\n",
    "\n",
    "    @width.setter\n",
    "    def width(self, new_width):\n",
    "        if new_width > 0:\n",
    "            self._width = new_width\n",
    "        else:\n",
    "            print(\"Width must be greater than zero\")\n",
    "\n",
    "    @height.setter\n",
    "    def height(self, new_height):\n",
    "        if new_height > 0:\n",
    "            self._height = new_height\n",
    "        else:\n",
    "            print(\"Height must be greater than zero\")\n",
    "\n",
    "    @width.deleter\n",
    "    def width(self):\n",
    "        del self._width\n",
    "        print(\"Width has been deleted\")\n",
    "\n",
    "    @height.deleter\n",
    "    def height(self):\n",
    "        del self._height\n",
    "        print(\"Height has been deleted\")\n",
    "\n",
    "rectangle = Rectangle(5, 10)\n",
    "\n",
    "print(rectangle.width)\n",
    "print(rectangle.height)\n",
    "\n",
    "rectangle.width = 9\n",
    "rectangle.height = 9\n",
    "\n",
    "print(\"New values: \")\n",
    "print(rectangle.width)\n",
    "print(rectangle.height)\n",
    "\n",
    "del rectangle.width\n",
    "del rectangle.height"
   ]
  },
  {
   "cell_type": "markdown",
   "metadata": {},
   "source": [
    "---\n",
    "\n",
    "### Decorators\n",
    "\n",
    "A **decorator** is a function that extends the behavior of another function without modifying the base function. You pass the base function as an argument to the decorator."
   ]
  },
  {
   "cell_type": "code",
   "execution_count": null,
   "metadata": {},
   "outputs": [],
   "source": [
    "def add_sprinkles(func): # decorator function\n",
    "    def wrapper(*args, **kwargs): # without this function, the get_ice_cream() gets invoked automatically when the decorator is added\n",
    "        print(\"You add sprinkles\")\n",
    "        func(*args, **kwargs) # base function that we received as a parameter\n",
    "    return wrapper\n",
    "\n",
    "def add_fudge(func): # decorator function\n",
    "    def wrapper(*args, **kwargs): # without this function, the get_ice_cream() gets invoked automatically when the decorator is added\n",
    "        print(\"You add fudge\")\n",
    "        func(*args, **kwargs) # base function that we received as a parameter\n",
    "    return wrapper\n",
    "\n",
    "@add_sprinkles\n",
    "@add_fudge\n",
    "def get_ice_cream(flavor):\n",
    "    print(f\"Here is your {flavor} ice cream\")\n",
    "\n",
    "get_ice_cream(\"vanilla\")\n",
    "you can apply more than one decorator to the base function"
   ]
  },
  {
   "cell_type": "markdown",
   "metadata": {},
   "source": [
    "---\n",
    "\n",
    "### Exceptions (Think of it as a \"Oops!\" moment)\n",
    "\n",
    "Alright, let’s talk about **exceptions**. In programming, an exception is like a problem or error that happens when something goes wrong while your code is running. Imagine you’re cooking, and you suddenly realize you’ve run out of salt. That’s an exception in your cooking process.\n",
    "\n",
    "When an exception happens, the program stops executing and displays an error message. It’s like your program goes on pause and says, \"I have a problem here, please fix it!\"\n",
    "\n",
    "Common exceptions you might encounter:\n",
    "* `ZeroDivisionError`: occurs when we try to divide a number by 0.\n",
    "* `TypeError`: if we apply an operation that is not supported between the two objects, then a `TypeError` exception occurs.\n",
    "* `ValueError`: when an object is given the incorrect value, the `ValueError` is raised."
   ]
  },
  {
   "cell_type": "code",
   "execution_count": null,
   "metadata": {},
   "outputs": [],
   "source": [
    "try: # any code that can potentially lead to an exception should be placed under try\n",
    "    number = int(input(\"Enter a number: \"))\n",
    "    print(1/ number)\n",
    "except ZeroDivisionError: # handles any ZeroDivisionError\n",
    "    print(\"You can't divide by zero\")\n",
    "except ValueError: # handles any ValueError\n",
    "    print(\"Please enter a number\")\n",
    "except Exception: # handles any other error\n",
    "    print(\"Something went wrong!\")\n",
    "finally: # executes no matter what happens, usually performs clean up activities like closing the opened file, etc.\n",
    "    print(\"Do some cleanup here\")"
   ]
  },
  {
   "cell_type": "markdown",
   "metadata": {},
   "source": [
    "---\n",
    "\n",
    "### Python File Detection (Let's check if that file exists!)\n",
    "\n",
    "So, let's talk about how to detect whether a specific file exists or not in Python. Imagine you're looking for your favorite book in a huge library. You can check whether the book is there or not before you start your search. Similarly, in Python, you can check if a file exists before trying to work with it."
   ]
  },
  {
   "cell_type": "code",
   "execution_count": null,
   "metadata": {},
   "outputs": [],
   "source": [
    "import os # os module\n",
    "\n",
    "file_path = \"test.txt\" # relative file path\n",
    "\n",
    "if os.path.exists(file_path):\n",
    "    print(f\"The location {file_path} exists\")\n",
    "\n",
    "    if os.path.isfile(file_path):\n",
    "        print(\"That is a file\")\n",
    "    elif os.path.isdir(file_path):\n",
    "        print(\"That is a directory\")\n",
    "else:\n",
    "    print(\"The location does not exist\")"
   ]
  },
  {
   "cell_type": "markdown",
   "metadata": {},
   "source": [
    "---\n",
    "\n",
    "### Python Writing Files\n",
    "\n",
    "Writing to different file types like `.txt`, `.json`, and `.csv`."
   ]
  },
  {
   "cell_type": "code",
   "execution_count": null,
   "metadata": {},
   "outputs": [],
   "source": [
    "# Writing to a .txt file\n",
    "txt_data = \"I like BBQ\"\n",
    "file_path = \"output.txt\"\n",
    "with open(file_path, \"w\") as file: # with statement is used to wrap the execution of a block with methods defined by a context manager\n",
    "    file.write(txt_data)\n",
    "    print(f\"txt file {file_path} was created\")\n",
    "\n",
    "# Writing to a .json file\n",
    "import json\n",
    "employee = {\n",
    "    \"name\": \"Franklin\",\n",
    "    \"age\": 24,\n",
    "    \"job\": \"Freelancer\"\n",
    "}\n",
    "file_path = \"output.json\"\n",
    "try:\n",
    "    with open(file_path, \"w\") as file:\n",
    "        json.dump(employee, file, indent=4)\n",
    "        print(f\"json file {file_path} was created\")\n",
    "except FileExistsError:\n",
    "    print(\"The file already exists!\")\n",
    "\n",
    "# Writing to a .csv file\n",
    "import csv\n",
    "employees = [[\"Name\", \"Age\", \"Job\"],\n",
    "            [\"Spongebob\", 37, \"Cook\"],\n",
    "            [\"Franklin\", 24, \"Freelancer\"],\n",
    "            [\"Freddy\", 27, \"Software Engineer\"]]\n",
    "file_path = \"output.csv\" # comma separated values\n",
    "try:\n",
    "    with open(file_path, \"w\", newline=\"\") as file:\n",
    "        writer = csv.writer(file)\n",
    "        for row in employees:\n",
    "            writer.writerow(row)\n",
    "        print(f\"csv file {file_path} was created\")\n",
    "except FileExistsError:\n",
    "    print(\"The file already exists!\")"
   ]
  },
  {
   "cell_type": "markdown",
   "metadata": {},
   "source": [
    "---\n",
    "\n",
    "### Python Reading Files\n",
    "\n",
    "Reading from different file types like `.txt`, `.json`, and `.csv`."
   ]
  },
  {
   "cell_type": "code",
   "execution_count": 10,
   "metadata": {},
   "outputs": [
    {
     "name": "stdout",
     "output_type": "stream",
     "text": [
      "That file was not found\n",
      "That file was not found\n",
      "That file was not found\n"
     ]
    }
   ],
   "source": [
    "# Reading from a .txt file\n",
    "file_path = \"output.txt\"\n",
    "try:\n",
    "    with open(file_path, \"r\") as file:\n",
    "        content = file.read()\n",
    "        print(content)\n",
    "except FileNotFoundError:\n",
    "    print(\"That file was not found\")\n",
    "except PermissionError:\n",
    "    print(\"Permission is denied!\")\n",
    "\n",
    "# Reading from a .json file\n",
    "import json\n",
    "file_path = \"output.json\"\n",
    "try:\n",
    "    with open(file_path, \"r\") as file:\n",
    "        content = json.load(file)\n",
    "        print(content)\n",
    "except FileNotFoundError:\n",
    "    print(\"That file was not found\")\n",
    "except PermissionError:\n",
    "    print(\"Permission is denied!\")\n",
    "\n",
    "# Reading from a .csv file\n",
    "import csv\n",
    "file_path = \"output.csv\"\n",
    "try:\n",
    "    with open(file_path, \"r\") as file:\n",
    "        content = csv.reader(file)\n",
    "        for line in content:\n",
    "            print(line)\n",
    "except FileNotFoundError:\n",
    "    print(\"That file was not found\")\n",
    "except PermissionError:\n",
    "    print(\"Permission is denied!\")"
   ]
  },
  {
   "cell_type": "markdown",
   "metadata": {},
   "source": [
    "---\n",
    "\n",
    "### Date and Time"
   ]
  },
  {
   "cell_type": "code",
   "execution_count": null,
   "metadata": {},
   "outputs": [],
   "source": [
    "import datetime\n",
    "\n",
    "date = datetime.date(2025, 1, 23)\n",
    "today = datetime.date.today()\n",
    "\n",
    "time = datetime.time(12, 30, 0)\n",
    "now = datetime.datetime.now()\n",
    "\n",
    "print(date)\n",
    "print(today)\n",
    "\n",
    "print(time)\n",
    "print(now)\n",
    "\n",
    "now = now.strftime(\"%H:%M:%S %m-%d-%Y\")\n",
    "print(now)"
   ]
  },
  {
   "cell_type": "markdown",
   "metadata": {},
   "source": [
    "---\n",
    "\n",
    "### Multithreading\n",
    "\n",
    "We are almost done learning Python!\n",
    "\n",
    "Imagine you're trying to finish your homework, make lunch, and text your friend all at once. It sounds impossible, right? But what if you could split those tasks into smaller chunks and work on them simultaneously? Well, that's what **multithreading** is like in Python!\n",
    "\n",
    "In programming, multithreading allows you to run multiple tasks (or \"threads\") at the same time within a single program. It's like juggling different tasks so they all get done faster, just like a superhero who can fly, solve mysteries, and save the world all at the same time.\n",
    "\n",
    "Multithreading is used to perform multiple tasks concurrently (multitasking) and is good for I/O bound tasks like reading files or fetching data from APIs."
   ]
  },
  {
   "cell_type": "code",
   "execution_count": null,
   "metadata": {},
   "outputs": [],
   "source": [
    "import threading\n",
    "import time\n",
    "\n",
    "def walk_dog(first, last):\n",
    "    time.sleep(8)\n",
    "    print(f\"You finished walking {first} {last}\")\n",
    "\n",
    "def take_out_trash():\n",
    "    time.sleep(2)\n",
    "    print(\"You take out the trash\")\n",
    "\n",
    "def get_mail():\n",
    "    time.sleep(4)\n",
    "    print(\"You get the mail\")\n",
    "\n",
    "# walk_dog()\n",
    "# take_out_trash()  # executing functions in order i.e, we need to wait for a function to complete its execution before moving onto the next function\n",
    "# get_mail()\n",
    "\n",
    "chore1 = threading.Thread(target=walk_dog, args = (\"Scooby\", \"Doo\"))\n",
    "chore1.start()\n",
    "\n",
    "chore2 = threading.Thread(target=take_out_trash)  # multitasking by executing all the functions simultaneously \n",
    "chore2.start()\n",
    "\n",
    "chore3 = threading.Thread(target=get_mail)\n",
    "chore3.start()\n",
    "\n",
    "chore1.join()\n",
    "chore2.join() # with the join(), we are waiting for all the tasks to complete before executing anything below it\n",
    "chore3.join()\n",
    "\n",
    "print(\"All chores are complete!\")"
   ]
  },
  {
   "cell_type": "markdown",
   "metadata": {},
   "source": [
    "---\n",
    "\n",
    "### How to connect to an API using Python\n",
    "\n",
    "**API**: The bridge between two worlds\n",
    "\n",
    "Imagine you're in a restaurant, and you’re hungry. You can't go directly to the kitchen (well, unless you’re a superhero). So, you tell the waiter what you want, and the waiter goes to the kitchen, picks up your food, and brings it back to you. The waiter here is like an API!"
   ]
  },
  {
   "cell_type": "code",
   "execution_count": null,
   "metadata": {},
   "outputs": [],
   "source": [
    "import requests # to make an API request\n",
    "\n",
    "base_uri = \"https://pokeapi.co/api/v2/\"\n",
    "\n",
    "def get_pokemon_info(name):\n",
    "    uri = f\"{base_uri}/pokemon/{name}\"\n",
    "    response = requests.get(uri)\n",
    "\n",
    "    if response.status_code == 200:\n",
    "        print(\"Data fetched!\")\n",
    "        pokemon_data = response.json() # converting json to python dictionary which consists of key: value pairs\n",
    "        return pokemon_data\n",
    "\n",
    "    else:\n",
    "        print(f\"Failed to fetch the data {response.status_code}\")\n",
    "\n",
    "pokemon_name = \"typhlosion\"\n",
    "pokemon_info = get_pokemon_info(pokemon_name)\n",
    "\n",
    "if pokemon_info:\n",
    "    print(f\"Name: {pokemon_info[\"name\"].capitalize()}\")\n",
    "    print(f\"Id: {pokemon_info[\"id\"]}\")\n",
    "    print(f\"Height: {pokemon_info[\"height\"]}\")\n",
    "    print(f\"Weight: {pokemon_info[\"weight\"]}\")"
   ]
  },
  {
   "cell_type": "markdown",
   "metadata": {},
   "source": [
    "***\n",
    "\n",
    "### Congratulations, Soldiers!\n",
    "\n",
    "You’ve made it to the end of this Python journey! That’s a huge achievement, and I’m super proud of you for sticking with it till the very end. Now, you've got all the basics and core concepts of Python under your belt. But remember, this is just the beginning. There’s a whole world of Python waiting for you to explore, and trust me, the more you dig, the more exciting it gets!\n",
    "\n",
    "And hey, just a quick secret, I learned Python in under a week! So, if I can do it, YOU CAN DO IT TOO! Everyone has 24 hours in a day. It's how you utilize that time that sets you apart from others. So, take what you’ve learned here, keep practicing, and you’ll be mastering Python before you know it!\n",
    "\n",
    "Happy Learning, and keep coding like a BOSS! 😎"
   ]
  }
 ],
 "metadata": {
  "kernelspec": {
   "display_name": "Python 3",
   "language": "python",
   "name": "python3"
  },
  "language_info": {
   "codemirror_mode": {
    "name": "ipython",
    "version": 3
   },
   "file_extension": ".py",
   "mimetype": "text/x-python",
   "name": "python",
   "nbconvert_exporter": "python",
   "pygments_lexer": "ipython3",
   "version": "3.9.6"
  }
 },
 "nbformat": 4,
 "nbformat_minor": 5
}
